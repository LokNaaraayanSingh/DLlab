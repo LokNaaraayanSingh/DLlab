{
 "cells": [
  {
   "cell_type": "code",
   "execution_count": 22,
   "metadata": {},
   "outputs": [],
   "source": [
    "import numpy as np"
   ]
  },
  {
   "cell_type": "code",
   "execution_count": 23,
   "metadata": {},
   "outputs": [],
   "source": [
    "class NeuralNetwork():\n",
    "    def __init__(self):\n",
    "        np.random.seed(1)\n",
    "        self.synaptic_weights = 2 * np.random.random((3, 1)) - 1"
   ]
  },
  {
   "cell_type": "code",
   "execution_count": 24,
   "metadata": {},
   "outputs": [],
   "source": [
    "def sigmoid(self, x):\n",
    "    return 1 / (1 + np.exp(-x))\n",
    "def sigmoid_derivative(self, x):\n",
    "    return x * (1 - x)\n",
    "def train(self, training_inputs, training_outputs, training_iterations):\n",
    "    for iteration in range(training_iterations):\n",
    "        # Pass training set through the neural network\n",
    "        output = self.think(training_inputs)\n",
    "        # Calculate the error rate\n",
    "        error = training_outputs - output\n",
    "        # Multiply error by input and gradient of the sigmoid function\n",
    "        # Less confident weights are adjusted more through the nature of the function\n",
    "        adjustments = np.dot(training_inputs.T, error * self.sigmoid_derivative(output)) \n",
    "        \n",
    "        # Adjust synaptic weights\n",
    "        self.synaptic_weights += adjustments"
   ]
  },
  {
   "cell_type": "code",
   "execution_count": 25,
   "metadata": {},
   "outputs": [
    {
     "name": "stdout",
     "output_type": "stream",
     "text": [
      "Random starting synaptic weights: \n",
      "[[-0.16595599]\n",
      " [ 0.44064899]\n",
      " [-0.99977125]]\n"
     ]
    },
    {
     "ename": "AttributeError",
     "evalue": "'NeuralNetwork' object has no attribute 'train'",
     "output_type": "error",
     "traceback": [
      "\u001b[1;31m---------------------------------------------------------------------------\u001b[0m",
      "\u001b[1;31mAttributeError\u001b[0m                            Traceback (most recent call last)",
      "\u001b[1;32md:\\5th sem\\Deep learning lab\\01.ipynb Cell 4\u001b[0m in \u001b[0;36m<cell line: 14>\u001b[1;34m()\u001b[0m\n\u001b[0;32m     <a href='vscode-notebook-cell:/d%3A/5th%20sem/Deep%20learning%20lab/01.ipynb#W3sZmlsZQ%3D%3D?line=11'>12</a>\u001b[0m training_outputs \u001b[39m=\u001b[39m np\u001b[39m.\u001b[39marray([[\u001b[39m0\u001b[39m,\u001b[39m1\u001b[39m,\u001b[39m1\u001b[39m,\u001b[39m0\u001b[39m]])\u001b[39m.\u001b[39mT\n\u001b[0;32m     <a href='vscode-notebook-cell:/d%3A/5th%20sem/Deep%20learning%20lab/01.ipynb#W3sZmlsZQ%3D%3D?line=12'>13</a>\u001b[0m \u001b[39m# Train the neural network\u001b[39;00m\n\u001b[1;32m---> <a href='vscode-notebook-cell:/d%3A/5th%20sem/Deep%20learning%20lab/01.ipynb#W3sZmlsZQ%3D%3D?line=13'>14</a>\u001b[0m neural_network\u001b[39m.\u001b[39;49mtrain(training_inputs, training_outputs, \u001b[39m10000\u001b[39m)\n",
      "\u001b[1;31mAttributeError\u001b[0m: 'NeuralNetwork' object has no attribute 'train'"
     ]
    }
   ],
   "source": [
    "if __name__ == \"__main__\":\n",
    "    # Initialize the single neuron neural network\n",
    "    neural_network = NeuralNetwork()\n",
    "\n",
    "    print(\"Random starting synaptic weights: \")\n",
    "    print(neural_network.synaptic_weights)\n",
    "\n",
    "# The training set, with 4 examples consisting of 3\n",
    "# input values and 1 output value\n",
    "\n",
    "training_inputs = np.array([[0,0,1], [1,1,1], [1,0,1], [0,1,1]])\n",
    "training_outputs = np.array([[0,1,1,0]]).T\n",
    "# Train the neural network\n",
    "neural_network.train(training_inputs, training_outputs, 10000)"
   ]
  },
  {
   "cell_type": "code",
   "execution_count": 26,
   "metadata": {},
   "outputs": [],
   "source": [
    "def think(self, inputs):\n",
    "    inputs = inputs.astype(float)\n",
    "    output = self.sigmoid(np.dot(inputs, self.synaptic_weights))\n",
    "    return output"
   ]
  },
  {
   "cell_type": "code",
   "execution_count": 27,
   "metadata": {},
   "outputs": [
    {
     "name": "stdout",
     "output_type": "stream",
     "text": [
      "Synaptic weights after training: \n",
      "[[-0.16595599]\n",
      " [ 0.44064899]\n",
      " [-0.99977125]]\n",
      "New situation: input data =  1 2 3\n",
      "Output data: \n"
     ]
    },
    {
     "ename": "AttributeError",
     "evalue": "'NeuralNetwork' object has no attribute 'think'",
     "output_type": "error",
     "traceback": [
      "\u001b[1;31m---------------------------------------------------------------------------\u001b[0m",
      "\u001b[1;31mAttributeError\u001b[0m                            Traceback (most recent call last)",
      "\u001b[1;32md:\\5th sem\\Deep learning lab\\01.ipynb Cell 6\u001b[0m in \u001b[0;36m<cell line: 10>\u001b[1;34m()\u001b[0m\n\u001b[0;32m      <a href='vscode-notebook-cell:/d%3A/5th%20sem/Deep%20learning%20lab/01.ipynb#W5sZmlsZQ%3D%3D?line=7'>8</a>\u001b[0m \u001b[39mprint\u001b[39m(\u001b[39m\"\u001b[39m\u001b[39mNew situation: input data = \u001b[39m\u001b[39m\"\u001b[39m, A, B, C)\n\u001b[0;32m      <a href='vscode-notebook-cell:/d%3A/5th%20sem/Deep%20learning%20lab/01.ipynb#W5sZmlsZQ%3D%3D?line=8'>9</a>\u001b[0m \u001b[39mprint\u001b[39m(\u001b[39m\"\u001b[39m\u001b[39mOutput data: \u001b[39m\u001b[39m\"\u001b[39m)\n\u001b[1;32m---> <a href='vscode-notebook-cell:/d%3A/5th%20sem/Deep%20learning%20lab/01.ipynb#W5sZmlsZQ%3D%3D?line=9'>10</a>\u001b[0m \u001b[39mprint\u001b[39m(neural_network\u001b[39m.\u001b[39;49mthink(np\u001b[39m.\u001b[39marray([A, B, C])))\n",
      "\u001b[1;31mAttributeError\u001b[0m: 'NeuralNetwork' object has no attribute 'think'"
     ]
    }
   ],
   "source": [
    "\n",
    "print(\"Synaptic weights after training: \")\n",
    "print(neural_network.synaptic_weights)\n",
    "\n",
    "A = str(input(\"Input 1: \"))\n",
    "B = str(input(\"Input 2: \"))\n",
    "C = str(input(\"Input 3: \")) \n",
    "\n",
    "print(\"New situation: input data = \", A, B, C)\n",
    "print(\"Output data: \")\n",
    "print(neural_network.think(np.array([A, B, C])))"
   ]
  }
 ],
 "metadata": {
  "kernelspec": {
   "display_name": "Python 3",
   "language": "python",
   "name": "python3"
  },
  "language_info": {
   "codemirror_mode": {
    "name": "ipython",
    "version": 3
   },
   "file_extension": ".py",
   "mimetype": "text/x-python",
   "name": "python",
   "nbconvert_exporter": "python",
   "pygments_lexer": "ipython3",
   "version": "3.10.2"
  },
  "orig_nbformat": 4
 },
 "nbformat": 4,
 "nbformat_minor": 2
}
